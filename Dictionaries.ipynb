{
 "cells": [
  {
   "cell_type": "code",
   "execution_count": 4,
   "metadata": {},
   "outputs": [],
   "source": [
    "# Dictionaries\n",
    "    # Key-value pairs in Python\n",
    "    # When the key is provided, you get the value\n",
    "    # You can loop thru the Key or Value\n",
    "    # In simple terms, it connects pieces of related information\n"
   ]
  },
  {
   "cell_type": "code",
   "execution_count": 5,
   "metadata": {},
   "outputs": [],
   "source": [
    "# Define a Dictionary\n",
    "    # Use CURLY braces {} to define dictionary\n",
    "    # Use COLON to connect Key with value :\n",
    "    # Use COMMA to seperate each KEy-Value pairs ,\n",
    "    "
   ]
  },
  {
   "cell_type": "code",
   "execution_count": 40,
   "metadata": {},
   "outputs": [
    {
     "ename": "SyntaxError",
     "evalue": "unexpected EOF while parsing (<ipython-input-40-31f528f7c853>, line 40)",
     "output_type": "error",
     "traceback": [
      "\u001b[1;36m  File \u001b[1;32m\"<ipython-input-40-31f528f7c853>\"\u001b[1;36m, line \u001b[1;32m40\u001b[0m\n\u001b[1;33m    print(len(dictOne)\u001b[0m\n\u001b[1;37m                      ^\u001b[0m\n\u001b[1;31mSyntaxError\u001b[0m\u001b[1;31m:\u001b[0m unexpected EOF while parsing\n"
     ]
    }
   ],
   "source": [
    "dictOne={'name':'srikanth','qualification':'M.C.A','Occupation':'S/W'}\n",
    "print(\"Value of key Name                    : \",dictOne['name'])\n",
    "print(\"value of key Occupation              : \",dictOne['Occupation'])\n",
    "\n",
    "# get values using get() method\n",
    "\n",
    "dictOne_get1=dictOne.get('name')\n",
    "dictOne_get2=dictOne.get('qualification')\n",
    "print(\"\\nUsing GET method \\nValue of key Name           : \",dictOne_get1)\n",
    "print(\"Value of key Qualification using GET : \",dictOne_get2)\n",
    "print(dictOne.get('name',0))\n",
    "\n",
    "# Adding new Key-value pairs\n",
    "\n",
    "dictOne['Sal']=10000.00\n",
    "dictOne['Balance']=12500.50\n",
    "\n",
    "# Dictionary without Key-value pair and then appending the same\n",
    "dictTest={}\n",
    "dictTest['first']='bob'\n",
    "dictTest['second']='ran'\n",
    "\n",
    "print(\"\\nPrior to Dict change \",dictOne)\n",
    "dictOne['name']='Ramesh'\n",
    "dictOne['Sal']='20000.00'\n",
    "print(\"\\nPost change to Dict\",dictOne)\n",
    "\n",
    "#Delete from dictionary\n",
    "dictForDel={'Topic':'English','Class':'P.Ed'}\n",
    "print(\"\\nPrior to Dict Deletion \",dictForDel)\n",
    "del dictForDel['Class']\n",
    "print(\"Post to Dict Deletion \",dictForDel)\n",
    "\n"
   ]
  }
 ],
 "metadata": {
  "kernelspec": {
   "display_name": "Python 3",
   "language": "python",
   "name": "python3"
  },
  "language_info": {
   "codemirror_mode": {
    "name": "ipython",
    "version": 3
   },
   "file_extension": ".py",
   "mimetype": "text/x-python",
   "name": "python",
   "nbconvert_exporter": "python",
   "pygments_lexer": "ipython3",
   "version": "3.6.5"
  }
 },
 "nbformat": 4,
 "nbformat_minor": 2
}
