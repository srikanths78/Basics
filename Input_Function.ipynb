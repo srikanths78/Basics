{
 "cells": [
  {
   "cell_type": "code",
   "execution_count": 1,
   "metadata": {},
   "outputs": [],
   "source": [
    "#Talk to computers"
   ]
  },
  {
   "cell_type": "code",
   "execution_count": 2,
   "metadata": {},
   "outputs": [],
   "source": [
    "#input() to get the data from computer"
   ]
  },
  {
   "cell_type": "code",
   "execution_count": 4,
   "metadata": {},
   "outputs": [
    {
     "name": "stdout",
     "output_type": "stream",
     "text": [
      "What is your profession?\n",
      "Student\n",
      "Your profession,Student is awesome\n"
     ]
    }
   ],
   "source": [
    "#print() and input()\n",
    "print(\"What is your profession?\")\n",
    "answer=input()\n",
    "print(\"Your profession,\"+answer,\"is awesome\")"
   ]
  },
  {
   "cell_type": "code",
   "execution_count": 6,
   "metadata": {},
   "outputs": [
    {
     "name": "stdout",
     "output_type": "stream",
     "text": [
      "What is your profession?Student\n",
      "Student\n"
     ]
    }
   ],
   "source": [
    "#Only input() and not print()\n",
    "answer=input(\"What is your profession?\")\n",
    "print(answer)"
   ]
  },
  {
   "cell_type": "code",
   "execution_count": 8,
   "metadata": {},
   "outputs": [
    {
     "name": "stdout",
     "output_type": "stream",
     "text": [
      "Enter a number2\n"
     ]
    },
    {
     "ename": "TypeError",
     "evalue": "unsupported operand type(s) for ** or pow(): 'str' and 'int'",
     "output_type": "error",
     "traceback": [
      "\u001b[1;31m---------------------------------------------------------------------------\u001b[0m",
      "\u001b[1;31mTypeError\u001b[0m                                 Traceback (most recent call last)",
      "\u001b[1;32m<ipython-input-8-66823a4bbb87>\u001b[0m in \u001b[0;36m<module>\u001b[1;34m\u001b[0m\n\u001b[0;32m      1\u001b[0m \u001b[1;31m#Result of input() is always STRING\u001b[0m\u001b[1;33m\u001b[0m\u001b[1;33m\u001b[0m\u001b[1;33m\u001b[0m\u001b[0m\n\u001b[0;32m      2\u001b[0m \u001b[0manything\u001b[0m\u001b[1;33m=\u001b[0m\u001b[0minput\u001b[0m\u001b[1;33m(\u001b[0m\u001b[1;34m\"Enter a number\"\u001b[0m\u001b[1;33m)\u001b[0m\u001b[1;33m\u001b[0m\u001b[1;33m\u001b[0m\u001b[0m\n\u001b[1;32m----> 3\u001b[1;33m \u001b[0msomething\u001b[0m\u001b[1;33m=\u001b[0m\u001b[0manything\u001b[0m\u001b[1;33m**\u001b[0m\u001b[1;36m2\u001b[0m\u001b[1;33m\u001b[0m\u001b[1;33m\u001b[0m\u001b[0m\n\u001b[0m\u001b[0;32m      4\u001b[0m \u001b[0mprint\u001b[0m\u001b[1;33m(\u001b[0m\u001b[0manything\u001b[0m\u001b[1;33m,\u001b[0m\u001b[1;34m\"to the power of 2 is\"\u001b[0m\u001b[1;33m,\u001b[0m\u001b[0msomething\u001b[0m\u001b[1;33m)\u001b[0m\u001b[1;33m\u001b[0m\u001b[1;33m\u001b[0m\u001b[0m\n",
      "\u001b[1;31mTypeError\u001b[0m: unsupported operand type(s) for ** or pow(): 'str' and 'int'"
     ]
    }
   ],
   "source": [
    "#Result of input() is always STRING\n",
    "anything=input(\"Enter a number\")\n",
    "something=anything**2\n",
    "print(anything,\"to the power of 2 is\",something)"
   ]
  },
  {
   "cell_type": "code",
   "execution_count": 9,
   "metadata": {},
   "outputs": [
    {
     "name": "stdout",
     "output_type": "stream",
     "text": [
      "Enter a number3\n",
      "3 to the power of 2 is 9\n"
     ]
    }
   ],
   "source": [
    "#Wrap int() and float() with input() to get necessary result\n",
    "anything =int(input(\"Enter a number\"))\n",
    "something=anything**2\n",
    "print(anything,\"to the power of 2 is\",something)"
   ]
  },
  {
   "cell_type": "code",
   "execution_count": 10,
   "metadata": {},
   "outputs": [
    {
     "name": "stdout",
     "output_type": "stream",
     "text": [
      "Enter a number3.5\n",
      "3.5 to the power of 2 is 12.25\n"
     ]
    }
   ],
   "source": [
    "#Wrap int() and float() with input() to get necessary result\n",
    "anything =float(input(\"Enter a number\"))\n",
    "something=anything**2\n",
    "print(anything,\"to the power of 2 is\",something)"
   ]
  },
  {
   "cell_type": "code",
   "execution_count": 11,
   "metadata": {},
   "outputs": [
    {
     "name": "stdout",
     "output_type": "stream",
     "text": [
      "Enter value for a5.5\n",
      "Enter valule for b6.5\n",
      "Value of c= 8.514693182963201\n"
     ]
    }
   ],
   "source": [
    "#Pythogrous\n",
    "\n",
    "a=float(input(\"Enter value for a\"))\n",
    "b=float(input(\"Enter valule for b\"))\n",
    "c=((a**2)+(b**2))**0.5\n",
    "print(\"Value of c=\",c)"
   ]
  },
  {
   "cell_type": "code",
   "execution_count": 13,
   "metadata": {},
   "outputs": [
    {
     "name": "stdout",
     "output_type": "stream",
     "text": [
      "Enter value for a2\n",
      "Enter valule for b2\n",
      "Value of c= 2.8284271247461903\n"
     ]
    }
   ],
   "source": [
    "#Without using the storage variable\n",
    "a=float(input(\"Enter value for a\"))\n",
    "b=float(input(\"Enter valule for b\"))\n",
    "#c=((a**2)+(b**2))**0.5\n",
    "print(\"Value of c=\",((a**2)+(b**2))**0.5)"
   ]
  },
  {
   "cell_type": "code",
   "execution_count": 18,
   "metadata": {},
   "outputs": [
    {
     "name": "stdout",
     "output_type": "stream",
     "text": [
      "Enter your first name pleaseJospeh\n",
      "Enter your last name pleaseMurrey\n",
      "Thank you\n",
      "Your name is Murrey,Jospeh Murrey.\n"
     ]
    }
   ],
   "source": [
    "#Operators and Strings\n",
    "# + and *\n",
    "\n",
    "fname=input(\"Enter your first name please\")\n",
    "lname=input(\"Enter your last name please\")\n",
    "print(\"Thank you\")\n",
    "print(\"Your name is \"+lname+\",\"+fname+\" \"+lname+\".\")"
   ]
  },
  {
   "cell_type": "code",
   "execution_count": 20,
   "metadata": {},
   "outputs": [
    {
     "name": "stdout",
     "output_type": "stream",
     "text": [
      "JamesJamesJamesJamesJames\n",
      "JamesJamesJamesJamesJames\n"
     ]
    }
   ],
   "source": [
    "# String and *\n",
    "\n",
    "a=\"James\"\n",
    "print(5*a)\n",
    "print(a*5)"
   ]
  },
  {
   "cell_type": "code",
   "execution_count": 28,
   "metadata": {},
   "outputs": [
    {
     "name": "stdout",
     "output_type": "stream",
     "text": [
      "+----------+\n",
      "|          |\n",
      "|          |\n",
      "|          |\n",
      "|          |\n",
      "|          |\n",
      "+----------+\n"
     ]
    }
   ],
   "source": [
    "# Draw a rectangle using the String and Operators\n",
    "\n",
    "print(\"+\"+10*\"-\"+\"+\")\n",
    "print((\"|\"+' '*10+\"|\\n\")*5,end=\"\")\n",
    "print(\"+\"+10*\"-\"+\"+\")"
   ]
  },
  {
   "cell_type": "code",
   "execution_count": null,
   "metadata": {},
   "outputs": [],
   "source": []
  }
 ],
 "metadata": {
  "kernelspec": {
   "display_name": "Python 3",
   "language": "python",
   "name": "python3"
  },
  "language_info": {
   "codemirror_mode": {
    "name": "ipython",
    "version": 3
   },
   "file_extension": ".py",
   "mimetype": "text/x-python",
   "name": "python",
   "nbconvert_exporter": "python",
   "pygments_lexer": "ipython3",
   "version": "3.6.7"
  }
 },
 "nbformat": 4,
 "nbformat_minor": 2
}
